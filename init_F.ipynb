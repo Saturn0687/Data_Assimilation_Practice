{
 "cells": [
  {
   "cell_type": "code",
   "execution_count": 1,
   "metadata": {
    "collapsed": true
   },
   "outputs": [],
   "source": [
    "#doesn't use\n",
    "\"\"\"\n",
    "Create initial condition for DA experiment\n",
    "Save:\n",
    "  x_a_init.txt\n",
    "\"\"\"\n",
    "import numpy as np\n",
    "from scipy.integrate import ode\n",
    "import lorenz96_F\n",
    "from settings import *\n",
    "#Call true value\n",
    "x_t_save = np.genfromtxt('x_t_Fperturbed.txt')\n",
    "\n",
    "# settings of spin-up\n",
    "sigma_x0 = 0.25  # size of initial perturpation\n",
    "Tspinup = 10  # initial spin-up time\n",
    "\n",
    "# spin-up from a random initail value\n",
    "x_a_0 = sigma_x0 * np.random.randn(N)\n",
    "\n",
    "solver = ode(lorenz96_F.f).set_integrator('dopri5', nsteps = 10000)\n",
    "solver.set_initial_value(x_t_save[0] + x_a_0, 0.).set_f_params(F) #\n",
    "solver.integrate(Tspinup)\n",
    "x_a_init = np.array(solver.y, dtype='f8')\n",
    "\n",
    "# save the initial condition for DA experiment\n",
    "np.savetxt('x_a_init_perturbed.txt', x_a_init)"
   ]
  },
  {
   "cell_type": "code",
   "execution_count": null,
   "metadata": {
    "collapsed": true
   },
   "outputs": [],
   "source": []
  }
 ],
 "metadata": {
  "kernelspec": {
   "display_name": "Python 3",
   "language": "python",
   "name": "python3"
  },
  "language_info": {
   "codemirror_mode": {
    "name": "ipython",
    "version": 3
   },
   "file_extension": ".py",
   "mimetype": "text/x-python",
   "name": "python",
   "nbconvert_exporter": "python",
   "pygments_lexer": "ipython3",
   "version": "3.6.1"
  }
 },
 "nbformat": 4,
 "nbformat_minor": 2
}
