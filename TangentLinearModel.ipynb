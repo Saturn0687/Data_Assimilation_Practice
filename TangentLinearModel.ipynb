{
 "cells": [
  {
   "cell_type": "code",
   "execution_count": 129,
   "metadata": {
    "collapsed": true
   },
   "outputs": [],
   "source": [
    "import numpy as np\n"
   ]
  },
  {
   "cell_type": "code",
   "execution_count": 130,
   "metadata": {
    "collapsed": true
   },
   "outputs": [],
   "source": [
    "def F(x): #x=[x1,x2,x3,...,xn]\n",
    "    y = np.zeros((40,40))\n",
    "    z = np.zeros((40,40))\n",
    "    for n in range(40):\n",
    "        z[n][n] = -1\n",
    "        z[n][np.mod(n+1+1,40)-1] = x[np.mod(n-1+1,40)-1]\n",
    "        z[n][np.mod(n-1+1,40)-1] = x[np.mod(n+1+1,40)-1]\n",
    "        #print(np.mod(n-2+1,40)-1)\n",
    "        z[n][np.mod(n-2+1,40)-1] = -1*x[np.mod(n+1+1,40)-1]\n",
    "    return z"
   ]
  },
  {
   "cell_type": "code",
   "execution_count": 133,
   "metadata": {},
   "outputs": [
    {
     "name": "stdout",
     "output_type": "stream",
     "text": [
      "[[-1. 39.  0. ...  0. -1.  1.]\n",
      " [ 2. -1.  0. ...  0.  0. -2.]\n",
      " [-3.  3. -1. ...  0.  0.  0.]\n",
      " ...\n",
      " [ 0.  0.  0. ... -1. 36.  0.]\n",
      " [ 0.  0.  0. ... 39. -1. 37.]\n",
      " [38.  0.  0. ...  0.  0. -1.]]\n"
     ]
    }
   ],
   "source": [
    "x = np.arange(40)\n",
    "#print(x)\n",
    "w = F(x) \n",
    "print(w)"
   ]
  },
  {
   "cell_type": "code",
   "execution_count": 132,
   "metadata": {},
   "outputs": [
    {
     "name": "stdout",
     "output_type": "stream",
     "text": [
      "[0, 1, 2, 3]\n"
     ]
    }
   ],
   "source": [
    "x = [0,1,2,3]\n",
    "print(x)"
   ]
  },
  {
   "cell_type": "code",
   "execution_count": 123,
   "metadata": {
    "scrolled": true
   },
   "outputs": [
    {
     "name": "stdout",
     "output_type": "stream",
     "text": [
      "2\n",
      "[-1, 3, -1, 1]\n"
     ]
    }
   ],
   "source": [
    "y = [0,0,0,0]\n",
    "z = [0,0,0,0]\n",
    "n = 0\n",
    "z[n] = -1 \n",
    "z[np.mod(n+1+1,40)-1] = x[np.mod(n-1+1,40)-1]\n",
    "z[np.mod(n-1+1,40)-1] = x[np.mod(n+1+1,40)-1]\n",
    "print(np.mod(n-2+1,40)-1)\n",
    "z[np.mod(n-2+1,40)-1] = -1*x[np.mod(n+1+1,40)-1]\n",
    "\n",
    "print(z)"
   ]
  },
  {
   "cell_type": "code",
   "execution_count": 23,
   "metadata": {},
   "outputs": [
    {
     "data": {
      "text/plain": [
       "array([[0, 0, 0, 0],\n",
       "       [0, 0, 0, 0],\n",
       "       [0, 0, 0, 0],\n",
       "       [0, 0, 0, 4]])"
      ]
     },
     "execution_count": 23,
     "metadata": {},
     "output_type": "execute_result"
    }
   ],
   "source": [
    "np.matmul(np.reshape(y,[4,1]), np.transpose(np.reshape(y,[4,1])))"
   ]
  },
  {
   "cell_type": "code",
   "execution_count": null,
   "metadata": {
    "collapsed": true
   },
   "outputs": [],
   "source": []
  }
 ],
 "metadata": {
  "kernelspec": {
   "display_name": "Python 3",
   "language": "python",
   "name": "python3"
  },
  "language_info": {
   "codemirror_mode": {
    "name": "ipython",
    "version": 3
   },
   "file_extension": ".py",
   "mimetype": "text/x-python",
   "name": "python",
   "nbconvert_exporter": "python",
   "pygments_lexer": "ipython3",
   "version": "3.6.1"
  }
 },
 "nbformat": 4,
 "nbformat_minor": 2
}
